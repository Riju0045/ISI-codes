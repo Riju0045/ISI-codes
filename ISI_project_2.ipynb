{
  "nbformat": 4,
  "nbformat_minor": 0,
  "metadata": {
    "colab": {
      "provenance": [],
      "include_colab_link": true
    },
    "kernelspec": {
      "name": "python3",
      "display_name": "Python 3"
    },
    "language_info": {
      "name": "python"
    }
  },
  "cells": [
    {
      "cell_type": "markdown",
      "metadata": {
        "id": "view-in-github",
        "colab_type": "text"
      },
      "source": [
        "<a href=\"https://colab.research.google.com/github/Riju0045/ISI-codes/blob/main/ISI_project_2.ipynb\" target=\"_parent\"><img src=\"https://colab.research.google.com/assets/colab-badge.svg\" alt=\"Open In Colab\"/></a>"
      ]
    },
    {
      "cell_type": "code",
      "execution_count": null,
      "metadata": {
        "id": "hjAQ90ZlVCBc"
      },
      "outputs": [],
      "source": [
        "import pandas as pd\n",
        "import matplotlib.pyplot as plt\n",
        "import seaborn as sns"
      ]
    },
    {
      "cell_type": "code",
      "source": [
        "df1 = pd.read_excel(\"/content/final data for Ideas proj.xlsx\", sheet_name =\"Sheet3\")"
      ],
      "metadata": {
        "id": "C8mL715bVsuE"
      },
      "execution_count": null,
      "outputs": []
    },
    {
      "cell_type": "code",
      "source": [
        "df2 = pd.read_excel(\"/content/final data for Ideas proj.xlsx\", sheet_name =\"Sheet1\")"
      ],
      "metadata": {
        "id": "tINXFHLjW31J"
      },
      "execution_count": null,
      "outputs": []
    },
    {
      "cell_type": "code",
      "source": [
        "#DATA VISUALISATION:\n",
        "#ORDER VOLUME BY SOURCE\n",
        "\n",
        "print(df2.columns)\n",
        "source_counts = df2['Source'].value_counts()\n",
        "source_counts.index = source_counts.index.astype(str)\n",
        "plt.figure(figsize=(10, 6))\n",
        "bars = plt.bar(source_counts.index, source_counts.values, color='lightgreen', edgecolor='black')\n",
        "for bar in bars:\n",
        "    height = bar.get_height()\n",
        "    plt.annotate(f'{height}',\n",
        "                 xy=(bar.get_x() + bar.get_width() / 2, height),\n",
        "                 xytext=(0, 3),  # Vertical offset\n",
        "                 textcoords=\"offset points\",\n",
        "                 ha='center', va='bottom', fontsize=10, fontweight='bold')\n",
        "plt.title('Order Volume by Source', fontsize=14)\n",
        "plt.xlabel('Source')\n",
        "plt.ylabel('Number of Orders')\n",
        "plt.xticks(rotation=45, ha='right')\n",
        "plt.tight_layout()\n",
        "plt.grid(axis='y', linestyle='--', alpha=0.7)\n",
        "plt.show()"
      ],
      "metadata": {
        "id": "e8IHWk3qxNqS"
      },
      "execution_count": null,
      "outputs": []
    },
    {
      "cell_type": "code",
      "source": [
        "#TOP PERFORMING PRODUCTS\n",
        "\n",
        "print(df3.columns)\n",
        "volume_threshold = df3['Total'].quantile(0.75)\n",
        "margin_threshold = df3['Profit Margin'].quantile(0.75)\n",
        "cash_cows = df3[\n",
        "    (df3['Total'] >= volume_threshold) &\n",
        "    (df3['Profit Margin'] >= margin_threshold)\n",
        "]\n",
        "print(\"Top-Performing Products (Cash Cows):\")\n",
        "print(cash_cows)\n",
        "cash_cows.to_excel(\"/content/cash_cows_Top_Performing_Products.xlsx\",index=False)\n"
      ],
      "metadata": {
        "id": "ddOx8CXMyw4m"
      },
      "execution_count": null,
      "outputs": []
    },
    {
      "cell_type": "code",
      "source": [
        "#PRODUCTS WITH HIGH DISCOUNTS BUT LOW SALES\n",
        "\n",
        "print(df2.columns)\n",
        "discount_col = 'Discount Amount'\n",
        "sales_col = 'Total'\n",
        "df2[discount_col] = pd.to_numeric(df2[discount_col], errors='coerce')\n",
        "df2[sales_col] = pd.to_numeric(df2[sales_col], errors='coerce')\n",
        "df2_cleaned = df2.dropna(subset=[discount_col, sales_col]).copy()\n",
        "\n",
        "high_discount = df2_cleaned[discount_col].quantile(0.75)\n",
        "low_sales = df2_cleaned[sales_col].quantile(0.25)\n",
        "\n",
        "high_discount_low_sales = df2_cleaned[\n",
        "    (df2_cleaned[discount_col] >= high_discount) &\n",
        "    (df2_cleaned[sales_col] <= low_sales)\n",
        "]\n",
        "\n",
        "print(\"Products with High Discount but Low Sales:\")\n",
        "print(high_discount_low_sales)\n",
        "high_discount_low_sales.to_excel(\"/content/high_discount_low_sales_High_Discount_but_Low_Sales.xlsx\",index=False)\n"
      ],
      "metadata": {
        "id": "XrnaTS2W56YW"
      },
      "execution_count": null,
      "outputs": []
    },
    {
      "cell_type": "code",
      "source": [
        "#CALCULATING PROFIT MARGIN\n",
        "\n",
        "print(df2.columns)\n",
        "df2['Profit'] = df2['Subtotal'] - df2['Discount Amount']\n",
        "\n",
        "df2['Profit Margin'] = (df2['Profit'] / df2['Subtotal']) * 100\n",
        "\n",
        "low_margin_threshold = df2['Profit Margin'].quantile(0.25)\n",
        "high_sales_threshold = df2['Subtotal'].quantile(0.75)\n",
        "\n",
        "volume_drivers = df2[\n",
        "    (df2['Profit Margin'] <= low_margin_threshold) &\n",
        "    (df2['Subtotal'] >= high_sales_threshold)\n",
        "]\n",
        "\n",
        "print(\"Low Margin, High Sales Volume Products (Volume Drivers):\")\n",
        "print(volume_drivers[['Name', 'Subtotal', 'Discount Amount', 'Profit', 'Profit Margin']])\n",
        "\n",
        "volume_drivers.to_excel(\"/content/volume_drivers_low_margin_high_sales.xlsx\",index=False)"
      ],
      "metadata": {
        "id": "bO0gVEYw7SmB"
      },
      "execution_count": null,
      "outputs": []
    },
    {
      "cell_type": "code",
      "source": [
        "df3 = pd.read_excel(\"/content/volume_drivers_low_margin_high_sales.xlsx\", sheet_name =\"Sheet1\")"
      ],
      "metadata": {
        "id": "U83OQ_wH9Pu7"
      },
      "execution_count": null,
      "outputs": []
    },
    {
      "cell_type": "code",
      "source": [
        "#PRODUCTS WIRH LOW MARGIN AND HIGH SALES VOLUME\n",
        "\n",
        "print(df3.columns)\n",
        "margin_col = 'Profit Margin'\n",
        "sales_col = 'Total'\n",
        "\n",
        "low_margin_threshold = df3[margin_col].quantile(0.25)\n",
        "high_sales_threshold = df3[sales_col].quantile(0.75)\n",
        "\n",
        "volume_drivers = df3[\n",
        "    (df3[margin_col] <= low_margin_threshold) &\n",
        "    (df3[sales_col] >= high_sales_threshold)\n",
        "]\n",
        "print(\"Low Margin, High Sales Volume Products (Volume Drivers):\")\n",
        "print(volume_drivers)\n",
        "volume_drivers.to_excel(\"/content/volume_drivers_low_margin_high_sales1.xlsx\",index=False)"
      ],
      "metadata": {
        "id": "x60z1Wrt-Rn2"
      },
      "execution_count": null,
      "outputs": []
    },
    {
      "cell_type": "code",
      "source": [
        "# PRODUCTS WITH HIGH MARGIN AND LOW SALES PRODUCTS\n",
        "\n",
        "high_margin_threshold = df3['Profit Margin'].quantile(0.75)\n",
        "low_sales_threshold = df3['Subtotal'].quantile(0.25)\n",
        "premium_underperformers = df3[\n",
        "    (df3['Profit Margin'] >= high_margin_threshold) &\n",
        "    (df3['Subtotal'] <= low_sales_threshold)\n",
        "]\n",
        "\n",
        "print(\"High Margin but Low Sales Products (Premium but Underperforming):\")\n",
        "print(premium_underperformers[['Name', 'Subtotal', 'Discount Amount', 'Profit', 'Profit Margin']])\n",
        "premium_underperformers.to_excel(\"/content/premium_underperformers_High_Margin_but_Low_Sales_Products.xlsx\",index=False)"
      ],
      "metadata": {
        "id": "0GFeeS-a-nul"
      },
      "execution_count": null,
      "outputs": []
    },
    {
      "cell_type": "code",
      "source": [
        "df4 = pd.read_excel(\"/content/final data for Ideas proj.xlsx\", sheet_name =\"Sheet2\")"
      ],
      "metadata": {
        "id": "RrTznnaZA6w-"
      },
      "execution_count": null,
      "outputs": []
    },
    {
      "cell_type": "code",
      "source": [
        "# NEGATIVE MARGIN PRODUCTS\n",
        "\n",
        "print(df4.columns)\n",
        "selling_price_col = 'Lineitem price'\n",
        "compare_price_col = 'Lineitem compare at price'\n",
        "negative_margins = df4[df4[selling_price_col] > df4[compare_price_col]]\n",
        "\n",
        "print(\"Negative Margin Products (Pricing Error):\")\n",
        "print(negative_margins[[selling_price_col, compare_price_col, 'Lineitem name']])\n",
        "negative_margins.to_excel(\"/content/negative_margins_Negative_Margin_Products .xlsx\",index=False)"
      ],
      "metadata": {
        "id": "LSDNajhfBFQi"
      },
      "execution_count": null,
      "outputs": []
    }
  ]
}