{
  "nbformat": 4,
  "nbformat_minor": 0,
  "metadata": {
    "colab": {
      "provenance": [],
      "include_colab_link": true
    },
    "kernelspec": {
      "name": "python3",
      "display_name": "Python 3"
    },
    "language_info": {
      "name": "python"
    }
  },
  "cells": [
    {
      "cell_type": "markdown",
      "metadata": {
        "id": "view-in-github",
        "colab_type": "text"
      },
      "source": [
        "<a href=\"https://colab.research.google.com/github/Riju0045/ISI-codes/blob/main/ISI_project_1.ipynb\" target=\"_parent\"><img src=\"https://colab.research.google.com/assets/colab-badge.svg\" alt=\"Open In Colab\"/></a>"
      ]
    },
    {
      "cell_type": "code",
      "source": [
        "import pandas as pd\n",
        "import matplotlib.pyplot as plt\n",
        "import seaborn as sns"
      ],
      "metadata": {
        "id": "gLhttvi9ou0F"
      },
      "execution_count": null,
      "outputs": []
    },
    {
      "cell_type": "code",
      "source": [
        "df1 = pd.read_excel(\"/content/final data for Ideas proj.xlsx\", sheet_name=\"Sheet 1\")  # Order-level\n",
        "df2 = pd.read_excel(\"/content/final data for Ideas proj.xlsx\", sheet_name=\"Sheet 3\")  # Product-level"
      ],
      "metadata": {
        "id": "qrMMi59Uodgr"
      },
      "execution_count": null,
      "outputs": []
    },
    {
      "cell_type": "code",
      "source": [
        "#monthly trend revenue\n",
        "months = [\n",
        "    \"January\", \"February\", \"March\", \"April\", \"May\", \"June\", \"July\",\n",
        "    \"August\", \"September\", \"October\", \"November\", \"December\"\n",
        "]\n",
        "monthly_revenue = df2.groupby(\"Month\")[\"Lineitem price\"].sum().reindex(months).dropna()\n",
        "\n",
        "plt.figure(figsize=(8, 5))\n",
        "monthly_revenue.plot(marker='o')\n",
        "plt.title(\"Monthly Revenue Trend\")\n",
        "plt.xlabel(\"Month\")\n",
        "plt.ylabel(\"Revenue (INR)\")\n",
        "plt.grid(True)\n",
        "plt.tight_layout()\n",
        "plt.show()"
      ],
      "metadata": {
        "id": "PSyLGjLUpyAE"
      },
      "execution_count": null,
      "outputs": []
    },
    {
      "cell_type": "code",
      "source": [
        "hourly_avg_sales = df1.groupby(['Day', 'Hour'])['Total'].mean().reset_index()\n",
        "\n",
        "heatmap_data = hourly_avg_sales.pivot(index='Hour', columns='Day', values='Total')\n",
        "\n",
        "plt.figure(figsize=(16, 8))\n",
        "sns.heatmap(heatmap_data, cmap='YlOrRd', annot=True, fmt=\".0f\", linewidths=0.5)\n",
        "\n",
        "plt.title('Average Sales Amount per Order by Hour and Day of Month', fontsize=14)\n",
        "plt.xlabel('Day of Month')\n",
        "plt.ylabel('Hour of Day')\n",
        "plt.tight_layout()\n",
        "plt.show()"
      ],
      "metadata": {
        "id": "1VpzQbHpasUK"
      },
      "execution_count": null,
      "outputs": []
    },
    {
      "cell_type": "code",
      "source": [
        "#Group by Shipping Method and calculate average order value\n",
        "aov_shipping = df1.groupby(\"Shipping Method\")[\"Total\"].mean().dropna()\n",
        "\n",
        "plt.figure(figsize=(8, 5))\n",
        "ax = aov_shipping.plot(kind=\"bar\", color=\"red\")\n",
        "\n",
        "plt.title(\"Average Order Value by Shipping Method\")\n",
        "plt.ylabel(\"Average Order Value (INR)\")\n",
        "plt.xlabel(\"Shipping Method\")\n",
        "\n",
        "plt.xticks(rotation=90, fontsize=8)\n",
        "\n",
        "for i, value in enumerate(aov_shipping):\n",
        "    ax.text(i, value + 0.01 * max(aov_shipping), f\"{value:,.0f}\",\n",
        "            ha='center', va='bottom', fontsize=8, rotation=90)\n",
        "\n",
        "plt.tight_layout()\n",
        "plt.show()"
      ],
      "metadata": {
        "id": "K0j_vnojqEpF"
      },
      "execution_count": null,
      "outputs": []
    },
    {
      "cell_type": "code",
      "source": [
        "import matplotlib.pyplot as plt\n",
        "\n",
        "df2[\"Vendor\"] = df2[\"Vendor\"].astype(str).str.strip().str.title()\n",
        "\n",
        "vendor_sales = df2.groupby(\"Vendor\")[\"Lineitem price\"].sum().sort_values(ascending=False)\n",
        "\n",
        "plt.figure(figsize=(10, 6))\n",
        "ax = vendor_sales.plot(kind=\"bar\", color=\"salmon\")\n",
        "\n",
        "plt.title(\"Total Sales by Vendor\")\n",
        "plt.ylabel(\"Revenue (INR)\")\n",
        "plt.xlabel(\"Vendor\")\n",
        "plt.xticks(rotation=45)\n",
        "plt.tight_layout()\n",
        "\n",
        "for i, value in enumerate(vendor_sales):\n",
        "    ax.text(i, value + 0.01 * max(vendor_sales), f\"{value:,.0f}\", ha='center', va='bottom', fontsize=9, rotation=90)\n",
        "\n",
        "plt.show()\n"
      ],
      "metadata": {
        "id": "ooU0KxA4rJtd"
      },
      "execution_count": null,
      "outputs": []
    },
    {
      "cell_type": "code",
      "source": [
        "df1[\"Vendor\"] = df1[\"Vendor\"].astype(str).str.strip().str.title()\n",
        "avg_sales_per_order = df1.groupby('Vendor')['Total'].mean().sort_values(ascending=False)\n",
        "\n",
        "plt.figure(figsize=(12, 6))\n",
        "sns.barplot(x=avg_sales_per_order.index, y=avg_sales_per_order.values, color='coral')\n",
        "\n",
        "for i, v in enumerate(avg_sales_per_order.values):\n",
        "    plt.text(i, v + max(avg_sales_per_order.values) * 0.01, f\"{v:,.2f}\",\n",
        "             ha='center', va='bottom', fontsize=9)\n",
        "\n",
        "plt.xticks(rotation=90, ha='right', fontsize=10)\n",
        "plt.ylabel(\"Average Per-Order Sales (INR)\")\n",
        "plt.title(\"Average Sales per Order by Vendor\")\n",
        "plt.tight_layout()\n",
        "plt.show()"
      ],
      "metadata": {
        "id": "2lnxURmueT-r"
      },
      "execution_count": null,
      "outputs": []
    },
    {
      "cell_type": "code",
      "source": [
        "import pandas as pd\n",
        "import numpy as np\n",
        "from sklearn.preprocessing import StandardScaler\n",
        "from sklearn.cluster import KMeans\n",
        "from sklearn.decomposition import PCA\n",
        "import matplotlib.pyplot as plt\n",
        "import seaborn as sns\n",
        "\n",
        "df_orders = pd.read_excel(\"/content/final data for Ideas proj.xlsx\", sheet_name=\"Sheet 1\")\n",
        "df_items = pd.read_excel(\"/content/final data for Ideas proj.xlsx\", sheet_name=\"Sheet 3\")\n"
      ],
      "metadata": {
        "id": "T00S_r-tMHlC"
      },
      "execution_count": null,
      "outputs": []
    },
    {
      "cell_type": "code",
      "source": [
        "df_orders[\"Day\"] = pd.to_datetime(df_orders[\"Day\"], errors='coerce')\n",
        "latest_date = df_orders[\"Day\"].max()\n",
        "\n",
        "rfm = df_orders.groupby(\"Billing name\").agg({\n",
        "    \"Day\": lambda x: (latest_date - x.max()).days,  # Recency in days\n",
        "    \"Name\": \"count\",                                # Frequency\n",
        "    \"Subtotal\": \"sum\"                               # Monetary\n",
        "}).rename(columns={\"Day\": \"Recency\", \"Name\": \"Frequency\", \"Subtotal\": \"Monetary\"}).dropna()\n",
        "\n",
        "scaler = StandardScaler()\n",
        "rfm_scaled = scaler.fit_transform(rfm)\n",
        "\n",
        "kmeans_rfm = KMeans(n_clusters=4, random_state=42)\n",
        "rfm[\"RFM_Cluster\"] = kmeans_rfm.fit_predict(rfm_scaled)\n",
        "rfm.groupby(\"RFM_Cluster\").mean()"
      ],
      "metadata": {
        "id": "9yQP4OLTHJSf"
      },
      "execution_count": null,
      "outputs": []
    },
    {
      "cell_type": "code",
      "source": [
        "rfm.reset_index(inplace=True)\n",
        "\n",
        "rfm[[\"Billing name\", \"Recency\", \"Frequency\", \"Monetary\", \"RFM_Cluster\"]].to_csv(\"rfm_customer_clusters.csv\", index=False)\n",
        "\n",
        "print(\"Customer-cluster mapping exported to 'rfm_customer_clusters.csv'\")summary = rfm.groupby(\"RFM_Cluster\")[[\"Recency\", \"Frequency\", \"Monetary\"]].agg([\"mean\", \"count\"]).round(2)\n",
        "print(summary)\n"
      ],
      "metadata": {
        "id": "jlTSnEnTcgXk"
      },
      "execution_count": null,
      "outputs": []
    },
    {
      "cell_type": "code",
      "source": [
        "# Order Pattern Clustering\n",
        "df_orders[\"Hour\"] = df_orders[\"Hour\"].astype(int)\n",
        "\n",
        "pattern_data = df_orders[[\"Total\", \"Discount Amount\", \"Hour\", \"Total\"]].dropna() # Removed 'Day' column\n",
        "pattern_scaled = scaler.fit_transform(pattern_data)\n",
        "\n",
        "kmeans_pattern = KMeans(n_clusters=3, random_state=42)\n",
        "df_orders[\"OrderCluster\"] = kmeans_pattern.fit_predict(pattern_scaled)"
      ],
      "metadata": {
        "id": "I9IBN1vMCfWm"
      },
      "execution_count": null,
      "outputs": []
    },
    {
      "cell_type": "code",
      "source": [
        "df_order_clusters = df_orders[[\"Billing name\", \"OrderCluster\"]].drop_duplicates()\n",
        "df_order_clusters.to_csv(\"order_pattern_clusters.csv\", index=False)"
      ],
      "metadata": {
        "id": "x0mDyXqndeVH"
      },
      "execution_count": null,
      "outputs": []
    },
    {
      "cell_type": "code",
      "source": [
        "#Discount Sensitivity Clustering\n",
        "discount_data = df_orders[[\"Discount Amount\", \"Subtotal\", \"Total\"]].dropna()\n",
        "discount_scaled = scaler.fit_transform(discount_data)\n",
        "\n",
        "kmeans_discount = KMeans(n_clusters=3, random_state=42)\n",
        "df_orders[\"DiscountCluster\"] = kmeans_discount.fit_predict(discount_scaled)"
      ],
      "metadata": {
        "id": "xUKo6fZzCk8W"
      },
      "execution_count": null,
      "outputs": []
    },
    {
      "cell_type": "code",
      "source": [
        "df_discount_clusters = df_orders[[\"Billing name\", \"DiscountCluster\"]].drop_duplicates()\n",
        "df_discount_clusters.to_csv(\"discount_sensitivity_clusters.csv\", index=False)"
      ],
      "metadata": {
        "id": "ikIGMxzVd0_q"
      },
      "execution_count": null,
      "outputs": []
    },
    {
      "cell_type": "code",
      "source": [
        "#Multi-Channel Clustering\n",
        "if \"Source\" in df_orders.columns:\n",
        "    channel_data = df_orders[[\"Source\", \"Total\", \"Discount Amount\", \"Total\"]].dropna()\n",
        "    channel_data = pd.get_dummies(channel_data, columns=[\"Source\"])\n",
        "    channel_scaled = scaler.fit_transform(channel_data)\n",
        "\n",
        "    kmeans_channel = KMeans(n_clusters=3, random_state=42)\n",
        "    df_orders[\"ChannelCluster\"] = kmeans_channel.fit_predict(channel_scaled)"
      ],
      "metadata": {
        "id": "kgwykAInCppD"
      },
      "execution_count": null,
      "outputs": []
    },
    {
      "cell_type": "code",
      "source": [
        "if \"ChannelCluster\" in df_orders.columns:\n",
        "    df_channel_clusters = df_orders[[\"Billing name\", \"ChannelCluster\"]].drop_duplicates()\n",
        "    df_channel_clusters.to_csv(\"multi_channel_clusters.csv\", index=False)"
      ],
      "metadata": {
        "id": "ccjU6IF7eF2r"
      },
      "execution_count": null,
      "outputs": []
    },
    {
      "cell_type": "code",
      "source": [
        "#Visualize RFM Clusters\n",
        "pca = PCA(n_components=2)\n",
        "rfm_pca = pca.fit_transform(rfm_scaled)\n",
        "rfm[\"PC1\"], rfm[\"PC2\"] = rfm_pca[:, 0], rfm_pca[:, 1]\n",
        "\n",
        "plt.figure(figsize=(8, 6))\n",
        "sns.scatterplot(data=rfm, x=\"PC1\", y=\"PC2\", hue=\"RFM_Cluster\", palette=\"Set2\")\n",
        "plt.title(\"RFM Clusters (Customer Segmentation)\")\n",
        "plt.tight_layout()\n",
        "plt.show()\n",
        "\n",
        "# -----------------------------------\n",
        "# SAVE OUTPUTS (Optional)\n",
        "# -----------------------------------\n",
        "rfm.to_csv(\"rfm_clusters.csv\")\n",
        "df_orders.to_csv(\"orders_with_clusters.csv\", index=False)\n"
      ],
      "metadata": {
        "id": "Ixu7RVM4CwRO"
      },
      "execution_count": null,
      "outputs": []
    },
    {
      "cell_type": "code",
      "source": [
        "pca = PCA(n_components=2)\n",
        "pattern_pca = pca.fit_transform(pattern_scaled)\n",
        "df_orders[\"PC1\"], df_orders[\"PC2\"] = pattern_pca[:, 0], pattern_pca[:, 1]\n",
        "\n",
        "plt.figure(figsize=(8, 6))\n",
        "sns.scatterplot(data=df_orders, x=\"PC1\", y=\"PC2\", hue=\"OrderCluster\", palette=\"Set1\", s=100)\n",
        "plt.title(\"Order Pattern Clusters (PCA)\")\n",
        "plt.xlabel(\"Principal Component 1\")\n",
        "plt.ylabel(\"Principal Component 2\")\n",
        "plt.grid(True)\n",
        "plt.tight_layout()\n",
        "plt.show()\n"
      ],
      "metadata": {
        "id": "kR_Brj9yOukK"
      },
      "execution_count": null,
      "outputs": []
    },
    {
      "cell_type": "code",
      "source": [
        "pca = PCA(n_components=2)\n",
        "discount_pca = pca.fit_transform(discount_scaled)\n",
        "df_orders[\"PC1_disc\"], df_orders[\"PC2_disc\"] = discount_pca[:, 0], discount_pca[:, 1]\n",
        "\n",
        "plt.figure(figsize=(8, 6))\n",
        "sns.scatterplot(data=df_orders, x=\"PC1_disc\", y=\"PC2_disc\", hue=\"DiscountCluster\", palette=\"cool\", s=100)\n",
        "plt.title(\"Discount Sensitivity Clusters (PCA)\")\n",
        "plt.grid(True)\n",
        "plt.tight_layout()\n",
        "plt.show()\n"
      ],
      "metadata": {
        "id": "TwKd7FmxPFgb"
      },
      "execution_count": null,
      "outputs": []
    },
    {
      "cell_type": "code",
      "source": [
        "if \"ChannelCluster\" in df_orders.columns:\n",
        "    pca = PCA(n_components=2)\n",
        "    channel_pca = pca.fit_transform(channel_scaled)\n",
        "    df_orders[\"PC1_chan\"], df_orders[\"PC2_chan\"] = channel_pca[:, 0], channel_pca[:, 1]\n",
        "\n",
        "    plt.figure(figsize=(8, 6))\n",
        "    sns.scatterplot(data=df_orders, x=\"PC1_chan\", y=\"PC2_chan\", hue=\"ChannelCluster\", palette=\"Set3\", s=100)\n",
        "    plt.title(\"Channel-Based Clusters (PCA)\")\n",
        "    plt.grid(True)\n",
        "    plt.tight_layout()\n",
        "    plt.show()"
      ],
      "metadata": {
        "id": "_pfAWMmvPceH"
      },
      "execution_count": null,
      "outputs": []
    }
  ]
}